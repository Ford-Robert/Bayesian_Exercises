{
  "nbformat": 4,
  "nbformat_minor": 0,
  "metadata": {
    "colab": {
      "provenance": []
    },
    "kernelspec": {
      "name": "python3",
      "display_name": "Python 3"
    },
    "language_info": {
      "name": "python"
    }
  },
  "cells": [
    {
      "cell_type": "markdown",
      "source": [
        "\n",
        "\n",
        "# Homework\n",
        "\n",
        "---\n",
        "Q1: What proportion of students who answer this question quickly will pass the class?\n",
        "Assume the probability of passing the class is 0.9.\n",
        "Assume the probability of answering this question quickly is 0.6 if you'll pass the class,\n",
        "while the probability drops to 0.3 if you'll not pass the class.\n",
        "\n",
        "Q2:\n",
        "\\begin{align*}\n",
        "\\text{Likelihood} && p(x|\\theta,n) &={} \\texttt{Multinomial}\\\\\\\\\n",
        "\\text{Prior} && p(\\theta|\\boldsymbol{\\alpha}) &={} \\texttt{Dirichlet} \\\\\n",
        "\\text{Posterior} && p(\\theta|x,n,\\boldsymbol{\\alpha}) &={} \\overset{\\text{Bayes Theorem}}{\\frac{p(x|\\theta)p(\\theta)}{p(x)}} = \\; \\texttt{What?}\\\\\n",
        "&&& \\quad\\quad\\quad\\quad\\quad\\; = \\; \\texttt{What distribution?}\\\\\n",
        "&&& \\quad\\quad\\quad\\quad\\quad\\quad\\;\\;\\, \\texttt{With what parameterization?}\\\\\n",
        "\\end{align*}\n",
        "\n",
        "### _The posterior is always proportional to the joint_\n",
        "\n",
        "$$\\large p(\\theta|x) = (1/c)\\times p(\\theta,x) \\propto{} p(\\theta,x)$$\n",
        "\n",
        "**_and the posterior is always a proper distribution if the prior is_**\n",
        "\n",
        "Q3: Create a sample from a three category multinomial distribution and visualize the multinomial distribution and the multinomial sample; then, visualize the simplex Dirichlet distribution of the prior and the posterior using a ternary plot.\n"
      ],
      "metadata": {
        "id": "NYHGhB-Z4v0d"
      }
    },
    {
      "cell_type": "markdown",
      "source": [],
      "metadata": {
        "id": "7UlZNxsLF2-z"
      }
    },
    {
      "cell_type": "markdown",
      "source": [
        "##Q1.\n",
        "I want to calculate Pr(Pass|Quick).\n",
        "Starting by calculating Pr(Quick) by the Total Law of Probability:\n",
        "\n",
        "\\begin{align*}\n",
        "\\ p(Quick) &={} p(Quick | Pass)p(Pass) + p(Quick | Fail)p(Fail)\\\\\n",
        "\\ &={} 0.6 * 0.9 + 0.3 * 0.1 = 0.57 \\\\\n",
        "\\end{align*}\n",
        "\n",
        "Then by Bayes Formula:\n",
        "\n",
        "\\begin{align*}\n",
        "\\ p(Pass|Quick) &={} \\frac{p(Quick|Pass)*p(Pass)}{p(Quick)} \\\\\n",
        "\\ &={} \\frac{0.6*0.9}{0.57} = 0.9474\n",
        "\\end{align*}\n",
        "\n",
        "So we can expect that approximately 94.74% of students who answer this question quickly will pass this class."
      ],
      "metadata": {
        "id": "mV9hUcMOF9Zj"
      }
    },
    {
      "cell_type": "markdown",
      "source": [
        "## Q2: Posterior of a Multinomial–Dirichlet Model\n",
        "\n",
        "Given:\n",
        "- **Likelihood**: $$p(x \\mid \\theta, n) = \\mathrm{Multinomial}(n, \\theta)$$\n",
        "- **Prior**: $$p(\\theta \\mid \\boldsymbol{\\alpha}) = \\mathrm{Dirichlet}(\\boldsymbol{\\alpha})$$\n",
        "\n",
        "\n",
        "\n",
        "By Bayes’ theorem:\n",
        "\n",
        "$$\n",
        "  p(\\theta \\mid x, n, \\boldsymbol{\\alpha})\n",
        "  \\;=\\;\n",
        "  \\frac{p(x \\mid \\theta, n)\\,p(\\theta \\mid \\boldsymbol{\\alpha})}{p(x \\mid n, \\boldsymbol{\\alpha})}.\n",
        "$$\n",
        "\n",
        "Since $$p(x \\mid n, \\boldsymbol{\\alpha})$$ is just a normalizing constant (with respect to $$\\theta$$), we can write:\n",
        "\n",
        "$$\n",
        "  p(\\theta \\mid x, n, \\boldsymbol{\\alpha})\n",
        "  \\;\\propto\\;\n",
        "  p(x \\mid \\theta, n)\\;p(\\theta \\mid \\boldsymbol{\\alpha}).\n",
        "$$\n",
        "\n",
        "\n",
        "$$\n",
        "  p(x \\mid \\theta, n)\n",
        "  \\;=\\;\n",
        "  \\frac{n!}{x_1!\\,\\cdots\\,x_k!}\\,\n",
        "  \\theta_1^{\\,x_1} \\cdots \\theta_k^{\\,x_k},\n",
        "$$\n",
        "\n",
        "$$\n",
        "  p(\\theta \\mid \\boldsymbol{\\alpha})\n",
        "  \\;=\\;\n",
        "  \\frac{1}{B(\\boldsymbol{\\alpha})}\n",
        "  \\,\\prod_{j=1}^k\n",
        "    \\theta_j^{\\,\\alpha_j - 1}.\n",
        "$$\n",
        "\n",
        "Multiplying:\n",
        "\n",
        "$$\n",
        "\\begin{aligned}\n",
        "  p(x \\mid \\theta, n)\\,p(\\theta \\mid \\boldsymbol{\\alpha})\n",
        "  &=\n",
        "  \\left(\\frac{n!}{x_1!\\,\\cdots\\,x_k!}\\right)\n",
        "  \\left(\\frac{1}{B(\\boldsymbol{\\alpha})}\\right)\n",
        "  \\left(\\prod_{j=1}^k \\theta_j^{x_j}\\right)\n",
        "  \\left(\\prod_{j=1}^k \\theta_j^{\\alpha_j - 1}\\right)\n",
        "  \\\\[6pt]\n",
        "  &=\n",
        "  \\left(\\frac{n!}{x_1!\\,\\cdots\\,x_k!}\\right)\n",
        "  \\left(\\frac{1}{B(\\boldsymbol{\\alpha})}\\right)\n",
        "  \\prod_{j=1}^k\n",
        "    \\theta_j^{x_j + \\alpha_j - 1}.\n",
        "\\end{aligned}\n",
        "$$\n",
        "\n",
        "Here,\n",
        "$$\\frac{n!}{x_1!\\,\\cdots\\,x_k!}$$\n",
        "and\n",
        "$$\\frac{1}{B(\\boldsymbol{\\alpha})}$$\n",
        "are constants with respect to $$\\theta$$.  \n",
        "Thus:\n",
        "\n",
        "$$\n",
        "  p(x \\mid \\theta, n)\\,p(\\theta \\mid \\boldsymbol{\\alpha})\n",
        "  \\;\\propto\\;\n",
        "  \\prod_{j=1}^k \\theta_j^{(\\alpha_j + x_j) - 1}.\n",
        "$$\n",
        "\n",
        "\n",
        "We see:\n",
        "\n",
        "$$\n",
        "  p(\\theta \\mid x, n, \\boldsymbol{\\alpha})\n",
        "  \\;\\propto\\;\n",
        "  \\prod_{j=1}^k \\theta_j^{(\\alpha_j + x_j) - 1}.\n",
        "$$\n",
        "\n",
        "This is exactly the kernel of a Dirichlet distribution with parameters\n",
        "$$\\alpha_j + x_j$$. Therefore, the posterior is:\n",
        "\n",
        "$$\n",
        "  p(\\theta \\mid x, n, \\boldsymbol{\\alpha})\n",
        "  =\n",
        "  \\mathrm{Dirichlet}\\bigl(\\alpha_1 + x_1,\\;\\dots,\\;\\alpha_k + x_k\\bigr).\n",
        "$$\n",
        "\n",
        "1. What is the Posterior Distribution?\n",
        "   A Dirichlet distribution.\n",
        "\n",
        "2. What is its Parameterization?\n",
        "   $$\n",
        "       \\mathrm{Dirichlet}\\bigl(\\alpha_1 + x_1,\\;\\dots,\\;\\alpha_k + x_k\\bigr).\n",
        "   $$\n"
      ],
      "metadata": {
        "id": "XU78TqTxSIV9"
      }
    },
    {
      "cell_type": "code",
      "source": [
        "import numpy as np\n",
        "import matplotlib.pyplot as plt\n",
        "\n",
        "p_true = np.array([0.3, 0.5, 0.2])\n",
        "n = 100\n",
        "\n",
        "sample = np.random.multinomial(n, p_true, size=1)[0]\n",
        "\n",
        "\n",
        "print(\"True multinomial parameters (p_true):\", p_true)\n",
        "print(\"Number of trials (n):\", n)\n",
        "print(\"Sample counts (x):\", sample, \"  (sums to n)\")\n",
        "\n",
        "fig, axs = plt.subplots(1, 2, figsize=(10, 4))\n",
        "\n",
        "axs[0].bar([\"Cat 1\", \"Cat 2\", \"Cat 3\"], p_true, color=[\"C0\", \"C1\", \"C2\"])\n",
        "axs[0].set_ylim(0, 1)\n",
        "axs[0].set_ylabel(\"Probability\")\n",
        "axs[0].set_title(\"True Multinomial Distribution\")\n",
        "\n",
        "\n",
        "axs[1].bar([\"Cat 1\", \"Cat 2\", \"Cat 3\"], sample, color=[\"C0\", \"C1\", \"C2\"])\n",
        "axs[1].set_ylim(0, max(sample)*1.2)\n",
        "axs[1].set_ylabel(\"Count\")\n",
        "axs[1].set_title(f\"Sample of size n={n}\")\n",
        "\n",
        "plt.tight_layout()\n",
        "plt.show()\n"
      ],
      "metadata": {
        "colab": {
          "base_uri": "https://localhost:8080/",
          "height": 461
        },
        "id": "mVvYCSj0WSwa",
        "outputId": "92e6ca79-29b8-44cb-f04b-983fe98d189a"
      },
      "execution_count": 5,
      "outputs": [
        {
          "output_type": "stream",
          "name": "stdout",
          "text": [
            "True multinomial parameters (p_true): [0.3 0.5 0.2]\n",
            "Number of trials (n): 100\n",
            "Sample counts (x): [34 49 17]   (sums to n)\n"
          ]
        },
        {
          "output_type": "display_data",
          "data": {
            "text/plain": [
              "<Figure size 1000x400 with 2 Axes>"
            ],
            "image/png": "[encoded data removed]"
          },
          "metadata": {}
        }
      ]
    }
  ]
}